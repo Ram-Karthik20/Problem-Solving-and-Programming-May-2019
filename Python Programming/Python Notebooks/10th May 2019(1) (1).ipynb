{
 "cells": [
  {
   "cell_type": "markdown",
   "metadata": {},
   "source": [
    "#Problem Solving and Programming\n",
    "##RamKarthik\n",
    "###Day No- 12\n",
    "\n",
    "##Date- 10-5-2019"
   ]
  },
  {
   "cell_type": "markdown",
   "metadata": {},
   "source": [
    "###Day Objectives\n",
    "* Day 5 set\n",
    "* Applying recursion programs in python "
   ]
  },
  {
   "cell_type": "markdown",
   "metadata": {},
   "source": [
    "##Problem 1:\n",
    "\n",
    "####Problem Statement: To check given number is palindrome or not\n",
    "\n",
    "####Test cases\n",
    "\n",
    "Palindrome(\"racecar\") -> True\n",
    "Palindrome(\"raptor\") -> False"
   ]
  },
  {
   "cell_type": "code",
   "execution_count": 1,
   "metadata": {},
   "outputs": [
    {
     "name": "stdout",
     "output_type": "stream",
     "text": [
      "Enter String : racecar\n",
      "True\n"
     ]
    }
   ],
   "source": [
    "string = input(\"Enter String : \")\n",
    "if(string == string[len(string)-1:: - 1]):\n",
    "   print(\"True\")\n",
    "else:\n",
    "   print(\"False\")"
   ]
  },
  {
   "cell_type": "markdown",
   "metadata": {},
   "source": [
    "##Problem 2:\n",
    "\n",
    "####Problem Statement: To check given number is perfect or not\n",
    "\n",
    "####Test cases\n",
    "* Isperfect(3) -> False\n",
    "\n",
    "* Isperfect(6) -> True"
   ]
  },
  {
   "cell_type": "code",
   "execution_count": 2,
   "metadata": {},
   "outputs": [
    {
     "name": "stdout",
     "output_type": "stream",
     "text": [
      "Enter any number: 6\n",
      "True\n"
     ]
    }
   ],
   "source": [
    "n = int(input(\"Enter any number: \"))\n",
    "sum1 = 0\n",
    "for i in range(1, n):\n",
    "    if(n % i == 0):\n",
    "        sum1 = sum1 + i\n",
    "if (sum1 == n):\n",
    "    print(\"True\")\n",
    "else:\n",
    "    print(\"False\")"
   ]
  },
  {
   "cell_type": "markdown",
   "metadata": {},
   "source": [
    "##Problem 3:\n",
    "\n",
    "####Problem Statement: count the number of digits in a given number.\n",
    "\n",
    "####Test cases:\n",
    "\n",
    "* CountDigits(123456) -> 6\n",
    "* CountDigits (0) -> 1"
   ]
  },
  {
   "cell_type": "code",
   "execution_count": 4,
   "metadata": {},
   "outputs": [
    {
     "name": "stdout",
     "output_type": "stream",
     "text": [
      "Enter number:123456\n",
      "Total count of given numbers: 6\n"
     ]
    }
   ],
   "source": [
    "n=int(input(\"Enter number:\"))\n",
    "count=0\n",
    "while(n>0):\n",
    "    count=count+1\n",
    "    n=n//10\n",
    "print(\"Total count of given numbers:\",count)"
   ]
  },
  {
   "cell_type": "markdown",
   "metadata": {},
   "source": [
    "##Problem 4:\n",
    "\n",
    "####Problem Statement: generate multiplication tables. \n",
    "\n",
    "    \n",
    "####Test cases:\n",
    "* MT(3, 5, 7) -> 3 X 5 = 15\n"
   ]
  },
  {
   "cell_type": "code",
   "execution_count": 14,
   "metadata": {},
   "outputs": [
    {
     "name": "stdout",
     "output_type": "stream",
     "text": [
      "Enter the number: 10\n",
      "10 X 1 = 10\n",
      "10 X 2 = 20\n",
      "10 X 3 = 30\n",
      "10 X 4 = 40\n",
      "10 X 5 = 50\n",
      "10 X 6 = 60\n",
      "10 X 7 = 70\n",
      "10 X 8 = 80\n",
      "10 X 9 = 90\n",
      "10 X 10 = 100\n"
     ]
    }
   ],
   "source": [
    "num = int(input(\"Enter the number: \"))\n",
    "\n",
    "for i in range(1, 11):\n",
    "   print(num,\"X\",i,\"=\",num * i)"
   ]
  },
  {
   "cell_type": "markdown",
   "metadata": {},
   "source": [
    "##Problem 5:\n",
    "\n",
    "####Problem Statement: Factorial of a given number\n",
    "####Test cases:\n",
    "* Factorial(5) -> 120\n",
    "* Factorial (6) -> 720"
   ]
  },
  {
   "cell_type": "code",
   "execution_count": 28,
   "metadata": {},
   "outputs": [
    {
     "name": "stdout",
     "output_type": "stream",
     "text": [
      "Enter number:6\n",
      "Factorial:\n",
      "720\n"
     ]
    }
   ],
   "source": [
    "def factorial(n):\n",
    "    if(n <= 1):\n",
    "        return 1\n",
    "    else:\n",
    "        return(n*factorial(n-1))\n",
    "n = int(input(\"Enter number:\"))\n",
    "print(\"Factorial:\")\n",
    "print(factorial(n))"
   ]
  },
  {
   "cell_type": "markdown",
   "metadata": {},
   "source": [
    "##Problem 6:\n",
    "\n",
    "####Problem Statement:To check if a given number is Prime and returns a Boolean value.\n",
    "\n",
    "####Test cases:\n",
    "* IsPrime(7) -> True\n",
    "* IsPrime(9) ->  False"
   ]
  },
  {
   "cell_type": "code",
   "execution_count": 35,
   "metadata": {},
   "outputs": [
    {
     "name": "stdout",
     "output_type": "stream",
     "text": [
      "True\n",
      "False\n"
     ]
    }
   ],
   "source": [
    "import sympy\n",
    "print(sympy.isprime(7))\n",
    "print(sympy.isprime(9))"
   ]
  },
  {
   "cell_type": "code",
   "execution_count": null,
   "metadata": {},
   "outputs": [],
   "source": []
  },
  {
   "cell_type": "markdown",
   "metadata": {},
   "source": [
    "##Recursion Problems\n",
    "\n",
    "##Problem 7:\n",
    "\n",
    "####Problem Statement:power of number"
   ]
  },
  {
   "cell_type": "code",
   "execution_count": 19,
   "metadata": {},
   "outputs": [
    {
     "data": {
      "text/plain": [
       "1024"
      ]
     },
     "execution_count": 19,
     "metadata": {},
     "output_type": "execute_result"
    }
   ],
   "source": [
    "##Iterative method\n",
    "def power(n,r):\n",
    "    prod=1\n",
    "    for i in range(1,r+1):\n",
    "        prod *=n\n",
    "    return prod\n",
    "power(2,10)"
   ]
  },
  {
   "cell_type": "code",
   "execution_count": 26,
   "metadata": {},
   "outputs": [
    {
     "data": {
      "text/plain": [
       "27"
      ]
     },
     "execution_count": 26,
     "metadata": {},
     "output_type": "execute_result"
    }
   ],
   "source": [
    "##Using recursion\n",
    "def recursivePower(n,r):\n",
    "    if r==1:\n",
    "        return n\n",
    "    else:\n",
    "        return recursivePower(n,r-1) * n\n",
    "recursivePower(3,3)   "
   ]
  },
  {
   "cell_type": "markdown",
   "metadata": {},
   "source": [
    "##Problem 8:\n",
    "\n",
    "####Problem Statement:GCD of two numbers using recursion"
   ]
  },
  {
   "cell_type": "code",
   "execution_count": 32,
   "metadata": {},
   "outputs": [
    {
     "data": {
      "text/plain": [
       "10"
      ]
     },
     "execution_count": 32,
     "metadata": {},
     "output_type": "execute_result"
    }
   ],
   "source": [
    "# GCD of two numbers remains the same when\n",
    "# small parameter is reduced to the remainder\n",
    "# and larger parameter is replaced by small parameter\n",
    "# GCD(a,b)=GCD(b%a,a)\n",
    "\n",
    "def gcdRecursive(a,b)\n",
    "    if b % a == 0:\n",
    "        return a\n",
    "    else:\n",
    "        gcdRecursive(b % a, a)\n",
    "gcdRecursive(10,100)"
   ]
  },
  {
   "cell_type": "code",
   "execution_count": 33,
   "metadata": {},
   "outputs": [
    {
     "data": {
      "text/plain": [
       "3"
      ]
     },
     "execution_count": 33,
     "metadata": {},
     "output_type": "execute_result"
    }
   ],
   "source": [
    "# Iterative GCD\n",
    "def gcdIterative(a,b):\n",
    "    r = b % a\n",
    "    if(r==0):\n",
    "        return a\n",
    "    while r!=0:\n",
    "        r=b%a\n",
    "        b=a\n",
    "        a=r\n",
    "    return b\n",
    "gcdIterative(12,39)"
   ]
  },
  {
   "cell_type": "markdown",
   "metadata": {},
   "source": [
    "##Problem 9:\n",
    "\n",
    "####Problem Statement:Towers of hanoi\n",
    "\n",
    "####Constraints:\n",
    "* Larger disk cannot be placed on small disk\n",
    "* Only one disk can be moved at once\n",
    "\n",
    "####Explanation\n",
    "* n disks->move n-1 from source to temp\n",
    "           move nth disk from source to destination\n",
    "* 3 disks->move 2 disks from source to temp\n",
    "            move 3rd disk from source to destination\n",
    "            move 2 disks fromtemp to destination"
   ]
  },
  {
   "cell_type": "code",
   "execution_count": 55,
   "metadata": {},
   "outputs": [
    {
     "name": "stdout",
     "output_type": "stream",
     "text": [
      "Move  1 disk from  A to C\n",
      "Move  2 disk from  A to B\n",
      "Move  1 disk from  C to B\n",
      "Move  3 disk from  A to C\n",
      "Move  1 disk from  B to A\n",
      "Move  2 disk from  B to C\n",
      "Move  1 disk from  A to C\n"
     ]
    }
   ],
   "source": [
    "def towersOfHanoi(n,source,temp,dest):\n",
    "    if n==1:\n",
    "        print('Move ',n,'disk from ',source, 'to',dest)\n",
    "        return\n",
    "    else:\n",
    "        towersOfHanoi(n-1,source,dest,temp)\n",
    "        print('Move ',n,'disk from ',source, 'to',dest)\n",
    "        towersOfHanoi(n-1,temp,source,dest)\n",
    "        return\n",
    "    \n",
    "towersOfHanoi(3,'A','B','C')\n",
    "    "
   ]
  },
  {
   "cell_type": "markdown",
   "metadata": {},
   "source": [
    "##Problem 10:\n",
    "\n",
    "####Problem Statement:Generating nth fibonacci number\n",
    "\n",
    "####Test cases:\n",
    "* Fibonacci(7)->8\n",
    "* Fibonacci(10)->34"
   ]
  },
  {
   "cell_type": "code",
   "execution_count": 52,
   "metadata": {},
   "outputs": [
    {
     "name": "stdout",
     "output_type": "stream",
     "text": [
      "8\n",
      "34\n"
     ]
    }
   ],
   "source": [
    "def Fibonacci(n): \n",
    "    if n==1: \n",
    "        return 0\n",
    "    elif n==2: \n",
    "        return 1\n",
    "    else: \n",
    "        return Fibonacci(n-1)+Fibonacci(n-2) \n",
    "print(Fibonacci(7))\n",
    "print(Fibonacci(10))"
   ]
  },
  {
   "cell_type": "markdown",
   "metadata": {},
   "source": [
    "##Problem 11:\n",
    "\n",
    "####Problem Statement:Define a function to identify the number of times a substring is repeating in a given string\n",
    "\n",
    "####Test cases\n",
    "* substringCount('str','substr')->1\n",
    "* substringCount('1234567891122334455','3')->3\n",
    "* substringCount('abccddccc','cc')->3"
   ]
  },
  {
   "cell_type": "code",
   "execution_count": 60,
   "metadata": {},
   "outputs": [
    {
     "name": "stdout",
     "output_type": "stream",
     "text": [
      "1\n",
      "3\n"
     ]
    }
   ],
   "source": [
    "def substringCount(str,substr):\n",
    "    if(len(str)>len(substr)):\n",
    "        return str.count(substr)\n",
    "    return substr.count(str)\n",
    "print(substringCount('str','substr'))\n",
    "print(substringCount('1234567891122334455','3'))\n",
    "\n",
    "#working only for first 2 testcases "
   ]
  },
  {
   "cell_type": "code",
   "execution_count": 64,
   "metadata": {},
   "outputs": [
    {
     "name": "stdout",
     "output_type": "stream",
     "text": [
      "1\n",
      "3\n",
      "3\n",
      "5\n"
     ]
    }
   ],
   "source": [
    "#Another code\n",
    "def substringCount(str1,str2):\n",
    "    count=0\n",
    "    if(len(str1)>len(str2)):\n",
    "        a=str1\n",
    "        b=str2\n",
    "    else:\n",
    "        a=str2\n",
    "        b=str1\n",
    "    for i in range(len(a)):\n",
    "        if b in a[i:i+len(b)]:\n",
    "            count=count+1\n",
    "    return count\n",
    "print(substringCount('str','substr'))\n",
    "print(substringCount('1234567891122334455', '3'))\n",
    "print(substringCount('abccddccc', 'cc'))\n",
    "print(substringCount('aaaaaaa','aaa'))"
   ]
  }
 ],
 "metadata": {
  "kernelspec": {
   "display_name": "Python 3",
   "language": "python",
   "name": "python3"
  },
  "language_info": {
   "codemirror_mode": {
    "name": "ipython",
    "version": 3
   },
   "file_extension": ".py",
   "mimetype": "text/x-python",
   "name": "python",
   "nbconvert_exporter": "python",
   "pygments_lexer": "ipython3",
   "version": "3.7.3"
  }
 },
 "nbformat": 4,
 "nbformat_minor": 2
}
