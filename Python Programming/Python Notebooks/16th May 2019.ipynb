{
 "cells": [
  {
   "cell_type": "markdown",
   "metadata": {},
   "source": [
    "#Problem Solving and Programming\n",
    "##B.Ram karthik\n",
    "###Day No- 18\n",
    "##Date- 16-5-2019"
   ]
  },
  {
   "cell_type": "markdown",
   "metadata": {},
   "source": [
    "###Day Objectives\n",
    "* File handling/Data Processing\n",
    "* External Libraries\n",
    "* Functional Programming"
   ]
  },
  {
   "cell_type": "markdown",
   "metadata": {},
   "source": [
    "## File Handling/Data Processing"
   ]
  },
  {
   "cell_type": "markdown",
   "metadata": {},
   "source": [
    "##Problem 1:\n",
    "####Problem Statement:\n",
    "Reading files"
   ]
  },
  {
   "cell_type": "code",
   "execution_count": 6,
   "metadata": {},
   "outputs": [
    {
     "data": {
      "text/plain": [
       "'Data in line 1\\nData in line 2\\nData in line 3'"
      ]
     },
     "execution_count": 6,
     "metadata": {},
     "output_type": "execute_result"
    }
   ],
   "source": [
    "def readFiledata(filename):\n",
    "    f=open(filename,'r')\n",
    "    filedata=f.read()\n",
    "    f.close()\n",
    "    return filedata\n",
    "readFiledata('DataFiles/data.txt')"
   ]
  },
  {
   "cell_type": "code",
   "execution_count": 8,
   "metadata": {},
   "outputs": [
    {
     "data": {
      "text/plain": [
       "'Data in line 1\\nData in line 2\\nData in line 3'"
      ]
     },
     "execution_count": 8,
     "metadata": {},
     "output_type": "execute_result"
    }
   ],
   "source": [
    "def readFiledata(filename):\n",
    "    with open(filename,'r') as f: #with is used to close the file manually\n",
    "        filedata=f.read()\n",
    "    return filedata\n",
    "readFiledata('DataFiles/data.txt')"
   ]
  },
  {
   "cell_type": "code",
   "execution_count": 9,
   "metadata": {},
   "outputs": [
    {
     "name": "stdout",
     "output_type": "stream",
     "text": [
      "Data in line 1\n",
      "Data in line 2\n",
      "Data in line 3"
     ]
    }
   ],
   "source": [
    "def readFiledata(filename):\n",
    "    with open(filename,'r') as f: #To remove the \\n\n",
    "        for line in f:\n",
    "            print(line,end='')\n",
    "    return\n",
    "readFiledata('DataFiles/data.txt')"
   ]
  },
  {
   "cell_type": "code",
   "execution_count": 10,
   "metadata": {},
   "outputs": [
    {
     "name": "stdout",
     "output_type": "stream",
     "text": [
      "Data in line 1\n",
      "Data in line 2\n",
      "Data in line 3\n"
     ]
    }
   ],
   "source": [
    "def readFiledata(filename):\n",
    "    with open(filename,'r') as f: #To avoid the usage of for loop\n",
    "        print(f.read())\n",
    "    return\n",
    "readFiledata('DataFiles/data.txt')"
   ]
  },
  {
   "cell_type": "code",
   "execution_count": 23,
   "metadata": {},
   "outputs": [],
   "source": [
    "def readFiledata(filename):\n",
    "    with open(filename,'r') as f: \n",
    "        print(f.read())\n",
    "    return\n",
    "\n",
    "def writeIntoFile(filename,data):\n",
    "    with open(filename,'w')as f:\n",
    "        f.write(data)\n",
    "    return\n",
    "\n",
    "writeIntoFile('DataFiles/fileWrite.txt','Random sentence into the fileWrite')"
   ]
  },
  {
   "cell_type": "code",
   "execution_count": 24,
   "metadata": {},
   "outputs": [],
   "source": [
    "def readFiledata(filename):\n",
    "    with open(filename,'a') as f: \n",
    "        print(f.read())\n",
    "    return\n",
    "\n",
    "def writeIntoFile(filename,data):\n",
    "    with open(filename,'w')as f:\n",
    "        f.write(data)\n",
    "    return\n",
    "\n",
    "writeIntoFile('DataFiles/fileWrite.txt','First line \\n')"
   ]
  },
  {
   "cell_type": "markdown",
   "metadata": {},
   "source": [
    "##Problem 2:\n",
    "####Problem Statement:\n",
    "Define a function to generate a marks data file(txt) for 1300 students such that each marks entered in a new line.Marks range from 0 to 100(inclusive) as random numbers"
   ]
  },
  {
   "cell_type": "code",
   "execution_count": 37,
   "metadata": {},
   "outputs": [],
   "source": [
    "import random\n",
    "def generateMarksData(n,filename):\n",
    "    with open(filename,'w') as marksfile:\n",
    "        for i in range(0,n):\n",
    "            marks=random.randint(0,100)\n",
    "            marksfile.write(str(marks)+'\\n')\n",
    "    return\n",
    "generateMarksData(1300,'DataFiles/marksdata.txt')"
   ]
  },
  {
   "cell_type": "markdown",
   "metadata": {},
   "source": [
    "##Problem 3:\n",
    "####Problem Statement:\n",
    "Generate a report on the marks data with the following indicators\n",
    "* Highest mark:\n",
    "* Lowest mark:\n",
    "* Average mark:\n",
    "* No of students with distinction(>80):\n",
    "* No of students with first class(>60):\n",
    "* No of students with second class(>50):\n",
    "* No of students with Third class(>40):\n",
    "* No of students with failed(<40):"
   ]
  },
  {
   "cell_type": "code",
   "execution_count": 38,
   "metadata": {},
   "outputs": [],
   "source": [
    "import random\n",
    "def readMarksFromFile(filename):\n",
    "    marks_li=[]\n",
    "    with open(filename,'r') as f:\n",
    "        for x in f:\n",
    "            marks_li.append(int(x))\n",
    "    writeMarksIntoFile('DataFiles/reportFile.txt',marks_li)\n",
    "    \n",
    "def writeMarksIntoFile(filename,arr):\n",
    "    dist=0\n",
    "    first=0\n",
    "    second=0\n",
    "    third=0\n",
    "    fail=0\n",
    "    with open(filename,'w') as reportFile:\n",
    "        reportFile.write(\"Highest is:\"+str(max(arr))+'\\n')\n",
    "        reportFile.write(\"lowest is:\"+str(min(arr))+'\\n')\n",
    "        for i in range(0,len(arr)):\n",
    "            if(arr[i]>=80):\n",
    "                dist=dist+1\n",
    "            elif(arr[i]>=60 and arr[i]<=80):\n",
    "                first=first+1\n",
    "            elif(arr[i]>=50 and arr[i]<=60):\n",
    "                second=second+1\n",
    "            elif(arr[i]>=40 and arr[i]<=50):\n",
    "                third=third+1\n",
    "            else:\n",
    "                fail=fail+1\n",
    "        reportFile.write(\"Distinction:\"+str(dist)+'\\n')\n",
    "        reportFile.write(\"First:\"+str(first)+'\\n')\n",
    "        reportFile.write(\"Second:\"+str(second)+'\\n')\n",
    "        reportFile.write(\"Third:\"+str(third)+'\\n')\n",
    "        reportFile.write(\"fail:\"+str(fail)+'\\n')\n",
    "        return\n",
    "readMarksFromFile('DataFiles/marksdata.txt')"
   ]
  },
  {
   "cell_type": "markdown",
   "metadata": {},
   "source": [
    "## Functional Programming"
   ]
  },
  {
   "cell_type": "code",
   "execution_count": 44,
   "metadata": {},
   "outputs": [
    {
     "data": {
      "text/plain": [
       "['1', '2', '3', '4', '5', '6']"
      ]
     },
     "execution_count": 44,
     "metadata": {},
     "output_type": "execute_result"
    }
   ],
   "source": [
    "li=[1,2,3,4,5,6]\n",
    "s=list(map(str,li))\n",
    "s"
   ]
  },
  {
   "cell_type": "code",
   "execution_count": 46,
   "metadata": {},
   "outputs": [
    {
     "data": {
      "text/plain": [
       "[1, 4, 9, 1600, 25, 36]"
      ]
     },
     "execution_count": 46,
     "metadata": {},
     "output_type": "execute_result"
    }
   ],
   "source": [
    "def square(n):\n",
    "    return n*n\n",
    "li=[1,2,3,40,5,6]\n",
    "s=list(map(square,li))\n",
    "s"
   ]
  },
  {
   "cell_type": "code",
   "execution_count": 47,
   "metadata": {},
   "outputs": [
    {
     "data": {
      "text/plain": [
       "[1.0, 4.0, 9.0, 1600.0, 25.0, 36.0]"
      ]
     },
     "execution_count": 47,
     "metadata": {},
     "output_type": "execute_result"
    }
   ],
   "source": [
    "def square(n):\n",
    "    return n*n\n",
    "li=[1,2,3,40,5,6]\n",
    "s=list(map(square,li))\n",
    "s=[float(i) for i in s]\n",
    "s"
   ]
  },
  {
   "cell_type": "code",
   "execution_count": 83,
   "metadata": {},
   "outputs": [
    {
     "name": "stdout",
     "output_type": "stream",
     "text": [
      "0.00014392900084203575\n"
     ]
    },
    {
     "data": {
      "text/plain": [
       "[1.0, 4.0, 9.0, 1600.0, 25.0, 36.0]"
      ]
     },
     "execution_count": 83,
     "metadata": {},
     "output_type": "execute_result"
    }
   ],
   "source": [
    "import timeit #timeit is used to generate the total time taken to execute the program\n",
    "def square(n):\n",
    "    return n*n\n",
    "st=timeit.default_timer()\n",
    "li=[1,2,3,40,5,6]\n",
    "s=list(map(square,li))\n",
    "s=[float(i) for i in s]\n",
    "print(timeit.default_timer()-st)\n",
    "s"
   ]
  },
  {
   "cell_type": "markdown",
   "metadata": {},
   "source": [
    "## External Libraries"
   ]
  },
  {
   "cell_type": "code",
   "execution_count": 90,
   "metadata": {},
   "outputs": [
    {
     "name": "stdout",
     "output_type": "stream",
     "text": [
      "[[0 1 2]\n",
      " [3 4 5]]\n"
     ]
    },
    {
     "data": {
      "text/plain": [
       "numpy.ndarray"
      ]
     },
     "execution_count": 90,
     "metadata": {},
     "output_type": "execute_result"
    }
   ],
   "source": [
    "import numpy as np #importing libraries\n",
    "a=np.array([[0,1,2],[3,4,5]])\n",
    "print(a)\n",
    "type(a)"
   ]
  }
 ],
 "metadata": {
  "kernelspec": {
   "display_name": "Python 3",
   "language": "python",
   "name": "python3"
  },
  "language_info": {
   "codemirror_mode": {
    "name": "ipython",
    "version": 3
   },
   "file_extension": ".py",
   "mimetype": "text/x-python",
   "name": "python",
   "nbconvert_exporter": "python",
   "pygments_lexer": "ipython3",
   "version": "3.7.3"
  }
 },
 "nbformat": 4,
 "nbformat_minor": 2
}
