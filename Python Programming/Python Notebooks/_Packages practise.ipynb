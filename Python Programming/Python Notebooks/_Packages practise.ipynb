{
 "cells": [
  {
   "cell_type": "markdown",
   "metadata": {},
   "source": [
    "## Packages"
   ]
  },
  {
   "cell_type": "code",
   "execution_count": 1,
   "metadata": {},
   "outputs": [
    {
     "data": {
      "text/plain": [
       "'kihtrak'"
      ]
     },
     "execution_count": 1,
     "metadata": {},
     "output_type": "execute_result"
    }
   ],
   "source": [
    "from Packages.stringFunctions import reverseString\n",
    "reverseString('karthik')"
   ]
  },
  {
   "cell_type": "code",
   "execution_count": 6,
   "metadata": {},
   "outputs": [
    {
     "data": {
      "text/plain": [
       "129"
      ]
     },
     "execution_count": 6,
     "metadata": {},
     "output_type": "execute_result"
    }
   ],
   "source": [
    "import math\n",
    "math.floor(129.999)"
   ]
  },
  {
   "cell_type": "markdown",
   "metadata": {},
   "source": [
    "## Regular Expressions"
   ]
  },
  {
   "cell_type": "code",
   "execution_count": 28,
   "metadata": {},
   "outputs": [
    {
     "name": "stdout",
     "output_type": "stream",
     "text": [
      "Match\n"
     ]
    }
   ],
   "source": [
    "import re\n",
    "\n",
    "pattern = '^g.....$'\n",
    "\n",
    "domain='google'\n",
    "if re.match(pattern,domain):\n",
    "    print('Match')\n",
    "else:\n",
    "    print('Does not Match')"
   ]
  },
  {
   "cell_type": "code",
   "execution_count": 32,
   "metadata": {},
   "outputs": [
    {
     "name": "stdout",
     "output_type": "stream",
     "text": [
      "Does not Match\n"
     ]
    }
   ],
   "source": [
    "pattern = '^[a-z]{2}$'\n",
    "\n",
    "domain='zzzzzzz'\n",
    "if re.match(pattern,domain):\n",
    "    print('Match')\n",
    "else:\n",
    "    print('Does not Match')"
   ]
  },
  {
   "cell_type": "code",
   "execution_count": 31,
   "metadata": {},
   "outputs": [
    {
     "name": "stdout",
     "output_type": "stream",
     "text": [
      "Match\n"
     ]
    }
   ],
   "source": [
    "pattern = '^[a-z]{2,9}$'\n",
    "\n",
    "domain='gmail'\n",
    "if re.match(pattern,domain):\n",
    "    print('Match')\n",
    "else:\n",
    "    print('Does not Match')"
   ]
  },
  {
   "cell_type": "code",
   "execution_count": 34,
   "metadata": {},
   "outputs": [
    {
     "name": "stdout",
     "output_type": "stream",
     "text": [
      "Does not Match\n"
     ]
    }
   ],
   "source": [
    "pattern = '^[a-z0-9]{5}$' #Dollar indicates that that is the maximum length of the given length \n",
    "                          #If we doesnot indicate the dollar beside the length of the string then it gives match if we exceed the lenth  \n",
    "\n",
    "domain='123456' \n",
    "if re.match(pattern,domain):\n",
    "    print('Match')\n",
    "else:\n",
    "    print('Does not Match')"
   ]
  },
  {
   "cell_type": "code",
   "execution_count": 48,
   "metadata": {},
   "outputs": [
    {
     "name": "stdout",
     "output_type": "stream",
     "text": [
      "Match\n"
     ]
    }
   ],
   "source": [
    "pattern='^[+]91[6-9][0-9]{9}$'#validate the indian phone numbers\n",
    "domain='+917876545678'\n",
    "if re.match(pattern,domain):\n",
    "      print('Match')\n",
    "else:\n",
    "    print('Does not Match')\n",
    "    "
   ]
  },
  {
   "cell_type": "code",
   "execution_count": 60,
   "metadata": {},
   "outputs": [
    {
     "name": "stdout",
     "output_type": "stream",
     "text": [
      "Match\n"
     ]
    }
   ],
   "source": [
    "pattern='^[1-9][0-9]{5}$'#Postal Code\n",
    "domain='500072'\n",
    "if re.match(pattern,domain):\n",
    "      print('Match')\n",
    "else:\n",
    "    print('Does not Match')"
   ]
  },
  {
   "cell_type": "code",
   "execution_count": 67,
   "metadata": {},
   "outputs": [
    {
     "name": "stdout",
     "output_type": "stream",
     "text": [
      "Match\n"
     ]
    }
   ],
   "source": [
    "pattern='^[a-z0-9]{5,13}[@][0-9a-z]{3,9}[.][a-z]{3}' #Email validation\n",
    "domain='ramkarthik156@gmail.com'\n",
    "if re.match(pattern,domain):\n",
    "      print('Match')\n",
    "else:\n",
    "    print('Does not Match')"
   ]
  },
  {
   "cell_type": "markdown",
   "metadata": {},
   "source": [
    "## Python Iterators\n",
    "\n",
    "Lists,Tuples,Strings"
   ]
  },
  {
   "cell_type": "code",
   "execution_count": 88,
   "metadata": {},
   "outputs": [
    {
     "name": "stdout",
     "output_type": "stream",
     "text": [
      "1\n",
      "2\n",
      "3\n",
      "4\n",
      "5\n",
      "6\n"
     ]
    },
    {
     "data": {
      "text/plain": [
       "2"
      ]
     },
     "execution_count": 88,
     "metadata": {},
     "output_type": "execute_result"
    }
   ],
   "source": [
    "li=[1,2,3,4,5,6]\n",
    "it=iter(li)\n",
    "type(it)\n",
    "next(it)\n",
    "next(it)"
   ]
  },
  {
   "cell_type": "code",
   "execution_count": 92,
   "metadata": {},
   "outputs": [
    {
     "name": "stdout",
     "output_type": "stream",
     "text": [
      "1 2 3 4 5 6 1 2 3 4 5 6 "
     ]
    }
   ],
   "source": [
    "li=[1,2,3,4,5,6]#Using for loop\n",
    "for i in li:\n",
    "    print(i,end=' ')\n",
    "it=iter(li)\n",
    "for i in it:\n",
    "    print(i,end=' ')"
   ]
  },
  {
   "cell_type": "markdown",
   "metadata": {},
   "source": [
    "## Generators in Python"
   ]
  },
  {
   "cell_type": "code",
   "execution_count": 99,
   "metadata": {},
   "outputs": [
    {
     "name": "stdout",
     "output_type": "stream",
     "text": [
      "1 8 27 64 125 216 343 512 729 1000 "
     ]
    }
   ],
   "source": [
    "li=[i**3 for i in range(1,11)]\n",
    "li\n",
    "gn=(i**3 for i in range(1,11))\n",
    "for i in gn:\n",
    "    print(i,end=' ')"
   ]
  }
 ],
 "metadata": {
  "kernelspec": {
   "display_name": "Python 3",
   "language": "python",
   "name": "python3"
  },
  "language_info": {
   "codemirror_mode": {
    "name": "ipython",
    "version": 3
   },
   "file_extension": ".py",
   "mimetype": "text/x-python",
   "name": "python",
   "nbconvert_exporter": "python",
   "pygments_lexer": "ipython3",
   "version": "3.7.3"
  }
 },
 "nbformat": 4,
 "nbformat_minor": 2
}
