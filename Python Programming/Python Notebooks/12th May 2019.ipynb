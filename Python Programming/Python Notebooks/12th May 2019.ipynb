{
 "cells": [
  {
   "cell_type": "markdown",
   "metadata": {},
   "source": [
    "#Problem Solving and Programming\n",
    "##Ram Karthik\n",
    "###Day No- 14\n",
    "\n",
    "##Date- 12-5-2019"
   ]
  },
  {
   "cell_type": "markdown",
   "metadata": {},
   "source": [
    "###Day Objectives\n",
    "* 10th May problem set\n",
    "* 12th May Problem set"
   ]
  },
  {
   "cell_type": "markdown",
   "metadata": {},
   "source": [
    "##Problem 1:\n",
    "####Problem Statement:Define a function to find the average of all the outer elements of an N x M matrix.\n",
    "####Test cases:\n",
    "* averageOuterMatrix([[1, 2, 3], [4, 5, 6], [7, 8, 9], [10, 11, 12]] -> 4.5"
   ]
  },
  {
   "cell_type": "code",
   "execution_count": 1,
   "metadata": {},
   "outputs": [
    {
     "data": {
      "text/plain": [
       "6.5"
      ]
     },
     "execution_count": 1,
     "metadata": {},
     "output_type": "execute_result"
    }
   ],
   "source": [
    "def averageOuterMatrix(a):\n",
    "    c=s=0\n",
    "    for i in range(0,len(a)):\n",
    "        if i==0 or i==len(a)-1:\n",
    "            s=s+sum(a[i])\n",
    "            c=c+len(a[i])\n",
    "        else:\n",
    "            s=s+a[i][0]+a[i][len(a[i])-1]\n",
    "            c=c+2\n",
    "    return s/c\n",
    "averageOuterMatrix([[1, 2, 3], [4, 5, 6], [7, 8, 9], [10, 11, 12]])"
   ]
  },
  {
   "cell_type": "markdown",
   "metadata": {},
   "source": [
    "##Problem 2:\n",
    "####Problem Statement:Define a function to print the sequence of spiral pattern elements for a given N x N matrix\n",
    "####Test cases:\n",
    "* spiralPattern([[1,2,3], [4,5,6], [7,8,9]]) -> 1 2 3 6 9 8 7 4 5"
   ]
  },
  {
   "cell_type": "code",
   "execution_count": 2,
   "metadata": {},
   "outputs": [
    {
     "name": "stdout",
     "output_type": "stream",
     "text": [
      "1 2 3 6 9 8 7 4 5 "
     ]
    }
   ],
   "source": [
    "def spiralPattern(a):\n",
    "    if len(a)%2==0:\n",
    "        n=len(a)\n",
    "    else:\n",
    "        n=len(a)+1\n",
    "    j=0\n",
    "    k=1\n",
    "    while(n!=0):\n",
    "        for i in range(j,len(a[j])-k):\n",
    "            print(a[j][i],end=' ')\n",
    "        for i in range(j,len(a)-k):\n",
    "            print(a[i][len(a[j])-k],end=' ')\n",
    "        for i in range(len(a[j])-k,j,-1):\n",
    "            print(a[len(a)-k][i],end=' ')\n",
    "        for i in range(len(a)-k,j,-1):\n",
    "            print(a[i][j],end=' ')\n",
    "        n=n-2\n",
    "        j=j+1\n",
    "        k=k+1\n",
    "    if(len(a)%2==1):\n",
    "        print(a[len(a)//2][len(a)//2],end=' ')\n",
    "spiralPattern([[1,2,3], [4,5,6], [7,8,9]])"
   ]
  },
  {
   "cell_type": "markdown",
   "metadata": {},
   "source": [
    "##Problem 3:\n",
    "####Problem Statement:You are given n words. Some words may repeat. For each word, output its number of occurrences. The output order should correspond with the input order of appearance of the word. \n",
    "First line of input contains the total number of words n. Next n lines contain words that need to processed.\n",
    "\n",
    "First line of the output should contain the total number distinct words. Second line of output must contain the frequency of words the same order of their appearance as in the input\n",
    "####Test cases:\n",
    "* Sample Input :  6\n",
    "\n",
    "abcd\n",
    "\n",
    "ijkl\n",
    "\n",
    "abcd\n",
    "\n",
    "pqrs\n",
    "\n",
    "abcd\n",
    "\n",
    "ijkl\n",
    "\n",
    "Sample Output :   3\n",
    "\n",
    "3  2   1"
   ]
  },
  {
   "cell_type": "code",
   "execution_count": 3,
   "metadata": {},
   "outputs": [
    {
     "name": "stdout",
     "output_type": "stream",
     "text": [
      "3\n",
      "3 2 1 "
     ]
    }
   ],
   "source": [
    "def occurence(ln,li):\n",
    "    li=['abcd','ijkl','abcd','pqrs','abcd','ijkl']\n",
    "    u=unique(li)\n",
    "    print(len(u))\n",
    "    for i in range(0,len(u)):\n",
    "        count=0\n",
    "        for j in range(0,len(li)):\n",
    "            if u[i]==li[j]:\n",
    "                count=count+1\n",
    "        print(count,end=' ')\n",
    "\n",
    "def unique(li):\n",
    "    u=[]\n",
    "    u.append(li[0])\n",
    "    for x in li:\n",
    "        if x not in u:\n",
    "            u.append(x)\n",
    "    return u\n",
    "occurence(6,['abcd','ijkl','abcd','pqrs','abcd','ijkl'])"
   ]
  },
  {
   "cell_type": "code",
   "execution_count": null,
   "metadata": {},
   "outputs": [],
   "source": []
  }
 ],
 "metadata": {
  "kernelspec": {
   "display_name": "Python 3",
   "language": "python",
   "name": "python3"
  },
  "language_info": {
   "codemirror_mode": {
    "name": "ipython",
    "version": 3
   },
   "file_extension": ".py",
   "mimetype": "text/x-python",
   "name": "python",
   "nbconvert_exporter": "python",
   "pygments_lexer": "ipython3",
   "version": "3.7.3"
  }
 },
 "nbformat": 4,
 "nbformat_minor": 2
}
