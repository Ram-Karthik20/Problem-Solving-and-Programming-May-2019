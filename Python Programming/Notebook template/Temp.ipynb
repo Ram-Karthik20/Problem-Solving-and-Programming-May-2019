{
 "cells": [
  {
   "cell_type": "markdown",
   "metadata": {},
   "source": [
    "#Problem Solving and Programming\n",
    "\n",
    "###Day No- 10\n",
    "\n",
    "##Date- 8-5-2019"
   ]
  },
  {
   "cell_type": "markdown",
   "metadata": {},
   "source": [
    "###Day Objectives\n",
    "1. objective 1\n",
    "2. objective 2\n",
    "3. Objective 3"
   ]
  },
  {
   "cell_type": "markdown",
   "metadata": {},
   "source": [
    "##Problem 1:\n",
    "####Problem Statement\n",
    "    \n",
    "   ####Constraints\n",
    "   \n",
    "   ####Test cases\n",
    "   * Test case 1\n",
    "   * Test case 2\n",
    "   * Test case 3"
   ]
  },
  {
   "cell_type": "code",
   "execution_count": null,
   "metadata": {},
   "outputs": [],
   "source": []
  }
 ],
 "metadata": {
  "kernelspec": {
   "display_name": "Python 3",
   "language": "python",
   "name": "python3"
  },
  "language_info": {
   "codemirror_mode": {
    "name": "ipython",
    "version": 3
   },
   "file_extension": ".py",
   "mimetype": "text/x-python",
   "name": "python",
   "nbconvert_exporter": "python",
   "pygments_lexer": "ipython3",
   "version": "3.7.3"
  }
 },
 "nbformat": 4,
 "nbformat_minor": 2
}
